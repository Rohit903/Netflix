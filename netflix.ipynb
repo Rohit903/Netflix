{
 "cells": [
  {
   "cell_type": "code",
   "execution_count": 25,
   "metadata": {},
   "outputs": [
    {
     "name": "stdout",
     "output_type": "stream",
     "text": [
      "     Age Contenttype        genre AgeGroup\n",
      "0     50       Movie  Time travel    40-50\n",
      "1     30     TV show       sci-fi    20-30\n",
      "2     20     TV show  Time travel    14-20\n",
      "3     43       Movie       Horror    40-50\n",
      "4     48       Movie       comedy    40-50\n",
      "5     38       Movie       sci-fi    30-40\n",
      "6     58       Movie       sci-fi    50-60\n",
      "7     19     TV show       sci-fi    14-20\n",
      "8     37     TV show       comedy    30-40\n",
      "9     49       Movie       sci-fi    40-50\n",
      "10    52       Movie       comedy    50-60\n",
      "11    34     TV show  Time travel    30-40\n",
      "12    44       Movie       comedy    40-50\n",
      "13    57       Movie       comedy    50-60\n",
      "14    58     TV show       sci-fi    50-60\n",
      "15    24       Movie       sci-fi    20-30\n",
      "16    41     TV show       Horror    40-50\n",
      "17    17       Movie  Time travel    14-20\n",
      "18    41     TV show  Time travel    40-50\n",
      "19    52     TV show       comedy    50-60\n",
      "20    46       Movie  Time travel    40-50\n",
      "21    32       Movie       sci-fi    30-40\n",
      "22    53       Movie       comedy    50-60\n",
      "23    45     TV show  Time travel    40-50\n",
      "24    38       Movie       sci-fi    30-40\n",
      "25    49       Movie  Time travel    40-50\n",
      "26    42       Movie       comedy    40-50\n",
      "27    26       Movie       comedy    20-30\n",
      "28    51       Movie       sci-fi    50-60\n",
      "29    33       Movie       sci-fi    30-40\n",
      "..   ...         ...          ...      ...\n",
      "970   32     TV show  Time travel    30-40\n",
      "971   42       Movie       Horror    40-50\n",
      "972   15     TV show       sci-fi    14-20\n",
      "973   14     TV show       comedy      NaN\n",
      "974   44     TV show       sci-fi    40-50\n",
      "975   35       Movie  Time travel    30-40\n",
      "976   44     TV show       comedy    40-50\n",
      "977   55     TV show       sci-fi    50-60\n",
      "978   16     TV show  Time travel    14-20\n",
      "979   28       Movie       Horror    20-30\n",
      "980   15     TV show       Horror    14-20\n",
      "981   22       Movie       sci-fi    20-30\n",
      "982   31     TV show       comedy    30-40\n",
      "983   17       Movie       comedy    14-20\n",
      "984   18       Movie       sci-fi    14-20\n",
      "985   48       Movie       sci-fi    40-50\n",
      "986   21     TV show  Time travel    20-30\n",
      "987   35     TV show       Horror    30-40\n",
      "988   56     TV show       comedy    50-60\n",
      "989   17     TV show       comedy    14-20\n",
      "990   31     TV show       Horror    30-40\n",
      "991   46     TV show       sci-fi    40-50\n",
      "992   53     TV show       comedy    50-60\n",
      "993   57     TV show       Horror    50-60\n",
      "994   24     TV show       sci-fi    20-30\n",
      "995   36       Movie  Time travel    30-40\n",
      "996   53       Movie       Horror    50-60\n",
      "997   40     TV show       Horror    30-40\n",
      "998   18     TV show       sci-fi    14-20\n",
      "999   53       Movie       comedy    50-60\n",
      "\n",
      "[1000 rows x 4 columns]\n",
      "hello\n"
     ]
    }
   ],
   "source": [
    "import pandas as pd\n",
    "import numpy as np\n",
    "import seaborn as sns\n",
    "import matplotlib.pyplot as plt\n",
    "\n",
    "age=np.random.randint(14,60,1000)\n",
    "contents = np.random.choice([\"comedy\",\"sci-fi\",\"Time travel\",\"Horror\"],1000)\n",
    "\n",
    "#print(contentLength)\n",
    "contenttype = np.random.choice([\"Movie\",\"TV show\"],1000)\n",
    "pdi = pd.DataFrame({\"Age\":age,\"genre\":contents,\"Contenttype\":contenttype})\n",
    "for i in range(0,len(pdi)):\n",
    "    ind=np.random.randint(1,len(pdi))\n",
    "    pdi.loc[ind,'genre']=np.random.choice([\"comedy\",\"sci-fi\",\"Time travel\"])\n",
    "for i in range(0,len(pdi)):\n",
    "    #ind=np.random.randint(1,len(pdi))\n",
    "    if(pdi.loc[i,'Age'] >14 and pdi.loc[i,'Age'] <=20):\n",
    "        pdi.loc[i,'AgeGroup'] = \"14-20\" \n",
    "    if(pdi.loc[i,'Age'] >20 and pdi.loc[i,'Age'] <=30):\n",
    "        pdi.loc[i,'AgeGroup'] = \"20-30\"\n",
    "    if(pdi.loc[i,'Age'] >30 and pdi.loc[i,'Age'] <=40):\n",
    "        pdi.loc[i,'AgeGroup'] = \"30-40\"\n",
    "    if(pdi.loc[i,'Age'] >40 and pdi.loc[i,'Age'] <=50):\n",
    "        pdi.loc[i,'AgeGroup'] = \"40-50\"\n",
    "    if(pdi.loc[i,'Age'] >50 and pdi.loc[i,'Age'] <=60):\n",
    "        pdi.loc[i,'AgeGroup'] = \"50-60\"\n",
    "pdi.to_csv(\"netflix2.csv\")\n",
    "print(pdi)\n",
    "print(\"hello\")\n",
    "#pdi.hist(column='genre')\n",
    "%matplotlib inline\n"
   ]
  },
  {
   "cell_type": "code",
   "execution_count": 8,
   "metadata": {},
   "outputs": [
    {
     "data": {
      "image/png": "[encoded data removed]",
      "text/plain": [
       "<Figure size 432x288 with 1 Axes>"
      ]
     },
     "metadata": {},
     "output_type": "display_data"
    }
   ],
   "source": [
    "plt.hist(pdi['Age'].tolist(),histtype=\"bar\")\n",
    "plt.show()"
   ]
  },
  {
   "cell_type": "code",
   "execution_count": 26,
   "metadata": {},
   "outputs": [
    {
     "data": {
      "image/png": "[encoded data removed]",
      "text/plain": [
       "<Figure size 432x288 with 1 Axes>"
      ]
     },
     "metadata": {},
     "output_type": "display_data"
    }
   ],
   "source": [
    "l1=pdi['genre'].tolist()\n",
    "#print(l1)\n",
    "plt.hist(l1,histtype=\"bar\")\n",
    "plt.show()"
   ]
  },
  {
   "cell_type": "code",
   "execution_count": 12,
   "metadata": {},
   "outputs": [
    {
     "data": {
      "image/png": "[encoded data removed]",
      "text/plain": [
       "<Figure size 432x288 with 1 Axes>"
      ]
     },
     "metadata": {},
     "output_type": "display_data"
    }
   ],
   "source": [
    "dp=pd.Series([\"hwllo\",\"hwllo\",\"hwllo\",\"hwllo\",\"hwllo\",\"hwllo\",\"hwllo\",\"hwllo\",\"hwllo\",\"hi\",\"hi\",\"hi\",\"hi\",\"hi\",\"hi\",\"hi\"])\n",
    "plt.hist(dp)\n",
    "plt.show()"
   ]
  },
  {
   "cell_type": "code",
   "execution_count": 27,
   "metadata": {},
   "outputs": [
    {
     "data": {
      "text/plain": [
       "<matplotlib.axes._subplots.AxesSubplot at 0x7f6a084444a8>"
      ]
     },
     "execution_count": 27,
     "metadata": {},
     "output_type": "execute_result"
    },
    {
     "data": {
      "image/png": "[encoded data removed]",
      "text/plain": [
       "<Figure size 432x288 with 1 Axes>"
      ]
     },
     "metadata": {},
     "output_type": "display_data"
    }
   ],
   "source": [
    "sns.barplot(x=\"genre\",y=\"Age\",data=pdi)"
   ]
  },
  {
   "cell_type": "code",
   "execution_count": 28,
   "metadata": {},
   "outputs": [
    {
     "data": {
      "text/plain": [
       "(array([234.,   0., 200.,   0., 129.,   0., 229.,   0., 188.,  20.]),\n",
       " array([0. , 0.5, 1. , 1.5, 2. , 2.5, 3. , 3.5, 4. , 4.5, 5. ]),\n",
       " <a list of 10 Patch objects>)"
      ]
     },
     "execution_count": 28,
     "metadata": {},
     "output_type": "execute_result"
    },
    {
     "data": {
      "image/png": "[encoded data removed]",
      "text/plain": [
       "<Figure size 432x288 with 1 Axes>"
      ]
     },
     "metadata": {},
     "output_type": "display_data"
    }
   ],
   "source": [
    "l1=pdi['AgeGroup'].tolist()\n",
    "#print(l1)\n",
    "plt.hist(l1,histtype=\"bar\")"
   ]
  },
  {
   "cell_type": "code",
   "execution_count": 37,
   "metadata": {},
   "outputs": [
    {
     "name": "stdout",
     "output_type": "stream",
     "text": [
      "0\n",
      "39\n",
      "10\n",
      "38\n",
      "42\n",
      "58\n",
      "23\n",
      "64\n",
      "55\n",
      "72\n",
      "29\n",
      "63\n",
      "65\n",
      "74\n",
      "18\n",
      "87\n",
      "55\n",
      "74\n",
      "16\n",
      "53\n"
     ]
    }
   ],
   "source": [
    "c1=len(pdi[pdi[\"AgeGroup\"]==\"14-20\"])\n",
    "c2=len(pdi[pdi[\"AgeGroup\"]=='20-30'])\n",
    "c3=len(pdi[pdi[\"AgeGroup\"]==\"30-40\"])\n",
    "c4=len(pdi[pdi[\"AgeGroup\"]==\"40-50\"])\n",
    "c5=len(pdi[pdi[\"AgeGroup\"]==\"50-60\"])\n",
    "#print(pdi[pdi[\"genre\"]==\"Horror\"])\n",
    "j=0\n",
    "k=0\n",
    "l=0\n",
    "m=0\n",
    "cc1=[0]\n",
    "cc2=[]\n",
    "cc3=[]\n",
    "cc4=[]\n",
    "\n",
    "   # agegroup=\n",
    "    #print(len(agegroup[agegroup[\"genre\"]==\"comedy\"]))\n",
    "    #j=j+1;\n",
    "    #print(len(agegroup[agegroup[\"genre\"]==\"Horror\"]))\n",
    "    #k=k+1;\n",
    "    #print(len(agegroup[agegroup[\"genre\"]==\"sci-fi\"]))\n",
    "    #l=l+1;\n",
    "    #print(len(agegroup[agegroup[\"genre\"]==\"Time travel\"]))\n",
    "    #m=m+1;\n",
    "for i in [\"14-20\",\"20-30\",\"30-40\",\"40-50\",\"50-60\"]:\n",
    "    agegroupc1=pdi[pdi[\"AgeGroup\"]== i]\n",
    "    cc1.append(len(agegroupc1[agegroupc1[\"genre\"]==\"comedy\"]))\n",
    "    j=j+1;\n",
    "    cc1.append(len(agegroupc1[agegroupc1[\"genre\"]==\"Horror\"]))\n",
    "    k=k+1;\n",
    "    cc1.append(len(agegroupc1[agegroupc1[\"genre\"]==\"sci-fi\"]))\n",
    "    l=l+1;\n",
    "    cc1.append(len(agegroupc1[agegroupc1[\"genre\"]==\"Time travel\"]))\n",
    "    m=m+1;\n",
    "for k in range(0,20):    \n",
    "    print(cc1[k])\n",
    "#for m in range(0,20,4):\n",
    "    #for n in range(m,m+4):\n",
    "        #ccc1.append(cc1[n])"
   ]
  },
  {
   "cell_type": "code",
   "execution_count": 38,
   "metadata": {},
   "outputs": [
    {
     "ename": "ValueError",
     "evalue": "The truth value of a DataFrame is ambiguous. Use a.empty, a.bool(), a.item(), a.any() or a.all().",
     "output_type": "error",
     "traceback": [
      "\u001b[0;31m---------------------------------------------------------------------------\u001b[0m",
      "\u001b[0;31mValueError\u001b[0m                                Traceback (most recent call last)",
      "\u001b[0;32m<ipython-input-38-82410277c18f>\u001b[0m in \u001b[0;36m<module>\u001b[0;34m()\u001b[0m\n\u001b[0;32m----> 1\u001b[0;31m \u001b[0mprint\u001b[0m\u001b[0;34m(\u001b[0m\u001b[0mpdi\u001b[0m\u001b[0;34m[\u001b[0m\u001b[0mpdi\u001b[0m\u001b[0;34m[\u001b[0m\u001b[0mpdi\u001b[0m\u001b[0;34m[\u001b[0m\u001b[0;34m\"AgeGroup\"\u001b[0m\u001b[0;34m]\u001b[0m\u001b[0;34m==\u001b[0m\u001b[0;34m\"14-20\"\u001b[0m\u001b[0;34m]\u001b[0m \u001b[0;32mand\u001b[0m \u001b[0mpdi\u001b[0m\u001b[0;34m[\u001b[0m\u001b[0mpdi\u001b[0m\u001b[0;34m[\u001b[0m\u001b[0;34m\"genre\"\u001b[0m\u001b[0;34m]\u001b[0m\u001b[0;34m==\u001b[0m\u001b[0;34m\"Horror\"\u001b[0m\u001b[0;34m]\u001b[0m\u001b[0;34m]\u001b[0m\u001b[0;34m)\u001b[0m\u001b[0;34m\u001b[0m\u001b[0m\n\u001b[0m\u001b[1;32m      2\u001b[0m \u001b[0mpdi\u001b[0m\u001b[0;34m[\u001b[0m\u001b[0mpdi\u001b[0m\u001b[0;34m[\u001b[0m\u001b[0;34m\"AgeGroup\"\u001b[0m\u001b[0;34m]\u001b[0m\u001b[0;34m==\u001b[0m\u001b[0;34m'20-30'\u001b[0m\u001b[0;34m]\u001b[0m\u001b[0;34m\u001b[0m\u001b[0m\n\u001b[1;32m      3\u001b[0m \u001b[0mpdi\u001b[0m\u001b[0;34m[\u001b[0m\u001b[0mpdi\u001b[0m\u001b[0;34m[\u001b[0m\u001b[0;34m\"AgeGroup\"\u001b[0m\u001b[0;34m]\u001b[0m\u001b[0;34m==\u001b[0m\u001b[0;34m\"30-40\"\u001b[0m\u001b[0;34m]\u001b[0m\u001b[0;34m\u001b[0m\u001b[0m\n\u001b[1;32m      4\u001b[0m \u001b[0mpdi\u001b[0m\u001b[0;34m[\u001b[0m\u001b[0mpdi\u001b[0m\u001b[0;34m[\u001b[0m\u001b[0;34m\"AgeGroup\"\u001b[0m\u001b[0;34m]\u001b[0m\u001b[0;34m==\u001b[0m\u001b[0;34m\"40-50\"\u001b[0m\u001b[0;34m]\u001b[0m\u001b[0;34m\u001b[0m\u001b[0m\n\u001b[1;32m      5\u001b[0m \u001b[0mpdi\u001b[0m\u001b[0;34m[\u001b[0m\u001b[0mpdi\u001b[0m\u001b[0;34m[\u001b[0m\u001b[0;34m\"AgeGroup\"\u001b[0m\u001b[0;34m]\u001b[0m\u001b[0;34m==\u001b[0m\u001b[0;34m\"50-60\"\u001b[0m\u001b[0;34m]\u001b[0m\u001b[0;34m\u001b[0m\u001b[0m\n",
      "\u001b[0;32m/usr/local/lib/python3.5/dist-packages/pandas/core/generic.py\u001b[0m in \u001b[0;36m__nonzero__\u001b[0;34m(self)\u001b[0m\n\u001b[1;32m   1119\u001b[0m         raise ValueError(\"The truth value of a {0} is ambiguous. \"\n\u001b[1;32m   1120\u001b[0m                          \u001b[0;34m\"Use a.empty, a.bool(), a.item(), a.any() or a.all().\"\u001b[0m\u001b[0;34m\u001b[0m\u001b[0m\n\u001b[0;32m-> 1121\u001b[0;31m                          .format(self.__class__.__name__))\n\u001b[0m\u001b[1;32m   1122\u001b[0m \u001b[0;34m\u001b[0m\u001b[0m\n\u001b[1;32m   1123\u001b[0m     \u001b[0m__bool__\u001b[0m \u001b[0;34m=\u001b[0m \u001b[0m__nonzero__\u001b[0m\u001b[0;34m\u001b[0m\u001b[0m\n",
      "\u001b[0;31mValueError\u001b[0m: The truth value of a DataFrame is ambiguous. Use a.empty, a.bool(), a.item(), a.any() or a.all()."
     ]
    }
   ],
   "source": [
    "print(pdi[pdi[pdi[\"AgeGroup\"]==\"14-20\"] and pdi[pdi[\"genre\"]==\"Horror\"]])\n",
    "pdi[pdi[\"AgeGroup\"]=='20-30']\n",
    "pdi[pdi[\"AgeGroup\"]==\"30-40\"]\n",
    "pdi[pdi[\"AgeGroup\"]==\"40-50\"]\n",
    "pdi[pdi[\"AgeGroup\"]==\"50-60\"]"
   ]
  },
  {
   "cell_type": "code",
   "execution_count": 39,
   "metadata": {},
   "outputs": [
    {
     "data": {
      "text/plain": [
       "<matplotlib.axes._subplots.AxesSubplot at 0x7f6a085389b0>"
      ]
     },
     "execution_count": 39,
     "metadata": {},
     "output_type": "execute_result"
    },
    {
     "data": {
      "image/png": "[encoded data removed]",
      "text/plain": [
       "<Figure size 432x288 with 1 Axes>"
      ]
     },
     "metadata": {},
     "output_type": "display_data"
    }
   ],
   "source": [
    "sns.barplot(['Comedy','Horror','sci-fi','Time Travel'],cc1[0:4])"
   ]
  },
  {
   "cell_type": "code",
   "execution_count": 40,
   "metadata": {
    "scrolled": true
   },
   "outputs": [
    {
     "data": {
      "text/plain": [
       "<matplotlib.axes._subplots.AxesSubplot at 0x7f6a0a625ef0>"
      ]
     },
     "execution_count": 40,
     "metadata": {},
     "output_type": "execute_result"
    },
    {
     "data": {
      "image/png": "[encoded data removed]",
      "text/plain": [
       "<Figure size 432x288 with 1 Axes>"
      ]
     },
     "metadata": {},
     "output_type": "display_data"
    }
   ],
   "source": [
    "sns.barplot(['Comedy','Horror','sci-fi','Time Travel'],cc1[4:8])\n"
   ]
  },
  {
   "cell_type": "code",
   "execution_count": 41,
   "metadata": {},
   "outputs": [
    {
     "data": {
      "text/plain": [
       "<matplotlib.axes._subplots.AxesSubplot at 0x7f6a0a60c080>"
      ]
     },
     "execution_count": 41,
     "metadata": {},
     "output_type": "execute_result"
    },
    {
     "data": {
      "image/png": "[encoded data removed]",
      "text/plain": [
       "<Figure size 432x288 with 1 Axes>"
      ]
     },
     "metadata": {},
     "output_type": "display_data"
    }
   ],
   "source": [
    "sns.barplot(['Comedy','Horror','sci-fi','Time Travel'],cc1[8:12])"
   ]
  },
  {
   "cell_type": "code",
   "execution_count": 35,
   "metadata": {},
   "outputs": [
    {
     "data": {
      "text/plain": [
       "<matplotlib.axes._subplots.AxesSubplot at 0x7f6a0805ca20>"
      ]
     },
     "execution_count": 35,
     "metadata": {},
     "output_type": "execute_result"
    },
    {
     "data": {
      "image/png": "[encoded data removed]",
      "text/plain": [
       "<Figure size 432x288 with 1 Axes>"
      ]
     },
     "metadata": {},
     "output_type": "display_data"
    }
   ],
   "source": [
    "sns.barplot(['Comedy','Horror','sci-fi','Time Travel'],cc1[12:16])"
   ]
  },
  {
   "cell_type": "code",
   "execution_count": 36,
   "metadata": {},
   "outputs": [
    {
     "data": {
      "text/plain": [
       "<matplotlib.axes._subplots.AxesSubplot at 0x7f6a08010128>"
      ]
     },
     "execution_count": 36,
     "metadata": {},
     "output_type": "execute_result"
    },
    {
     "data": {
      "image/png": "[encoded data removed]",
      "text/plain": [
       "<Figure size 432x288 with 1 Axes>"
      ]
     },
     "metadata": {},
     "output_type": "display_data"
    }
   ],
   "source": [
    "sns.barplot(['Comedy','Horror','sci-fi','Time Travel'],cc1[16:20])"
   ]
  },
  {
   "cell_type": "code",
   "execution_count": null,
   "metadata": {},
   "outputs": [],
   "source": []
  }
 ],
 "metadata": {
  "kernelspec": {
   "display_name": "Python 3",
   "language": "python",
   "name": "python3"
  },
  "language_info": {
   "codemirror_mode": {
    "name": "ipython",
    "version": 3
   },
   "file_extension": ".py",
   "mimetype": "text/x-python",
   "name": "python",
   "nbconvert_exporter": "python",
   "pygments_lexer": "ipython3",
   "version": "3.5.2"
  }
 },
 "nbformat": 4,
 "nbformat_minor": 2
}
